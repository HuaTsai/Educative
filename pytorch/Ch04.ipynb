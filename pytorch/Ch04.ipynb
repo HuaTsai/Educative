{
 "cells": [
  {
   "cell_type": "code",
   "execution_count": 1,
   "id": "6959c85f-2313-406f-bd73-5406761a702d",
   "metadata": {},
   "outputs": [],
   "source": [
    "import numpy as np\n",
    "from sklearn.linear_model import LinearRegression\n",
    "\n",
    "import torch\n",
    "import torch.optim as optim\n",
    "import torch.nn as nn\n",
    "from torch.utils.data import Dataset, TensorDataset, DataLoader\n",
    "from torch.utils.data.dataset import random_split\n",
    "from torch.utils.tensorboard import SummaryWriter\n",
    "\n",
    "import matplotlib.pyplot as plt\n",
    "%matplotlib inline\n",
    "plt.style.use('fivethirtyeight')"
   ]
  },
  {
   "cell_type": "markdown",
   "id": "76b4d7f4-cf1f-4d76-b1e1-ab79e1700837",
   "metadata": {},
   "source": [
    "## Train Step"
   ]
  },
  {
   "cell_type": "code",
   "execution_count": 2,
   "id": "e0a6452e-b439-4b26-b31c-5a6f1522fcc6",
   "metadata": {},
   "outputs": [],
   "source": [
    "def make_train_step(model, loss_fn, optimizer):\n",
    "    def perform_train_step(x, y):\n",
    "        model.train()\n",
    "        yhat = model(x)\n",
    "        loss = loss_fn(yhat, y)\n",
    "        loss.backward()\n",
    "        optimizer.step()\n",
    "        optimizer.zero_grad()\n",
    "        return loss.item()\n",
    "    return perform_train_step"
   ]
  },
  {
   "cell_type": "code",
   "execution_count": 3,
   "id": "bda83cab-984e-4833-ac8e-d5939f103841",
   "metadata": {},
   "outputs": [
    {
     "name": "stdout",
     "output_type": "stream",
     "text": [
      "Overwriting model_v1.py\n"
     ]
    }
   ],
   "source": [
    "%%writefile model_v1.py\n",
    "device = 'cuda' if torch.cuda.is_available() else 'cpu'\n",
    "lr = 0.1\n",
    "torch.manual_seed(42)\n",
    "model = nn.Sequential(nn.Linear(1, 1)).to(device)\n",
    "optimizer = optim.SGD(model.parameters(), lr=lr)\n",
    "loss_fn = nn.MSELoss(reduction='mean')\n",
    "train_step = make_train_step(model, loss_fn, optimizer)"
   ]
  },
  {
   "cell_type": "code",
   "execution_count": 4,
   "id": "2591ec90-0896-46e0-89a0-04316d424b8c",
   "metadata": {},
   "outputs": [
    {
     "name": "stdout",
     "output_type": "stream",
     "text": [
      "Overwriting train_v1.py\n"
     ]
    }
   ],
   "source": [
    "%%writefile train_v1.py\n",
    "n_epochs = 1000\n",
    "losses = []\n",
    "for epoch in range(n_epochs):\n",
    "    loss = train_step(x_train_tensor, y_train_tensor)\n",
    "    losses.append(loss)"
   ]
  },
  {
   "cell_type": "code",
   "execution_count": 5,
   "id": "8974087b-6419-413a-82a5-1f871afde08a",
   "metadata": {},
   "outputs": [],
   "source": [
    "%run -i datagen.py\n",
    "%run -i datapre_v0.py\n",
    "%run -i model_v1.py\n",
    "%run -i train_v1.py"
   ]
  },
  {
   "cell_type": "code",
   "execution_count": 6,
   "id": "f1e763e4-6365-47a8-950e-6feacad69d4b",
   "metadata": {},
   "outputs": [
    {
     "name": "stdout",
     "output_type": "stream",
     "text": [
      "OrderedDict({'0.weight': tensor([[1.9690]], device='cuda:0'), '0.bias': tensor([1.0235], device='cuda:0')})\n"
     ]
    }
   ],
   "source": [
    "print(model.state_dict())"
   ]
  },
  {
   "cell_type": "markdown",
   "id": "24b6ce7e-d758-4216-b390-ebc38337d431",
   "metadata": {},
   "source": [
    "## Dataset"
   ]
  },
  {
   "cell_type": "code",
   "execution_count": 7,
   "id": "e0e27f72-5f74-4362-aa30-2e09613edd1e",
   "metadata": {},
   "outputs": [
    {
     "name": "stdout",
     "output_type": "stream",
     "text": [
      "(tensor([0.7713]), tensor([2.4745]))\n"
     ]
    }
   ],
   "source": [
    "# Implement __init__, __getitem__, __len__\n",
    "class CustomDataset(Dataset):\n",
    "    def __init__(self, x_tensor, y_tensor):\n",
    "        self.x = x_tensor\n",
    "        self.y = y_tensor\n",
    "        \n",
    "    def __getitem__(self, index):\n",
    "        return (self.x[index], self.y[index])\n",
    "\n",
    "    def __len__(self):\n",
    "        return len(self.x)\n",
    "\n",
    "# No to(device), save RAM in GPU\n",
    "x_train_tensor = torch.as_tensor(x_train).float()\n",
    "y_train_tensor = torch.as_tensor(y_train).float()\n",
    "\n",
    "train_data = CustomDataset(x_train_tensor, y_train_tensor)\n",
    "print(train_data[0])"
   ]
  },
  {
   "cell_type": "code",
   "execution_count": 8,
   "id": "0d09cf88-e1d1-4ac3-9659-e0eb82a6da51",
   "metadata": {},
   "outputs": [
    {
     "name": "stdout",
     "output_type": "stream",
     "text": [
      "(tensor([0.7713]), tensor([2.4745]))\n"
     ]
    }
   ],
   "source": [
    "# Pytorch TesnorDataset\n",
    "train_data = TensorDataset(x_train_tensor, y_train_tensor)\n",
    "print(train_data[0])"
   ]
  },
  {
   "cell_type": "markdown",
   "id": "67508189-cce1-48f1-a0fe-096f8a4b2af7",
   "metadata": {},
   "source": [
    "## DataLoader"
   ]
  },
  {
   "cell_type": "code",
   "execution_count": 9,
   "id": "558eb406-c7b0-4388-986f-2a50aecaaebd",
   "metadata": {},
   "outputs": [
    {
     "name": "stdout",
     "output_type": "stream",
     "text": [
      "Overwriting datapre_v1.py\n"
     ]
    }
   ],
   "source": [
    "%%writefile datapre_v1.py\n",
    "x_train_tensor = torch.as_tensor(x_train).float()\n",
    "y_train_tensor = torch.as_tensor(y_train).float()\n",
    "train_data = TensorDataset(x_train_tensor, y_train_tensor)\n",
    "train_loader = DataLoader(dataset=train_data, batch_size=16, shuffle=True)"
   ]
  },
  {
   "cell_type": "code",
   "execution_count": 10,
   "id": "12b15b84-95e0-4ba4-b097-ee766c40abd9",
   "metadata": {},
   "outputs": [
    {
     "name": "stdout",
     "output_type": "stream",
     "text": [
      "Overwriting train_v2.py\n"
     ]
    }
   ],
   "source": [
    "%%writefile train_v2.py\n",
    "n_epochs = 1000\n",
    "losses = []\n",
    "for epoch in range(n_epochs):\n",
    "    mini_batch_losses = []\n",
    "    for x_batch, y_batch in train_loader:\n",
    "        x_batch = x_batch.to(device)\n",
    "        y_batch = y_batch.to(device)\n",
    "        mini_batch_loss = train_step(x_batch, y_batch)\n",
    "        mini_batch_losses.append(mini_batch_loss)\n",
    "    loss = np.mean(mini_batch_losses)\n",
    "    losses.append(loss)"
   ]
  },
  {
   "cell_type": "code",
   "execution_count": 11,
   "id": "02ed7774-8793-43f5-93ef-ccf936573798",
   "metadata": {},
   "outputs": [
    {
     "name": "stdout",
     "output_type": "stream",
     "text": [
      "OrderedDict({'0.weight': tensor([[1.9696]], device='cuda:0'), '0.bias': tensor([1.0243], device='cuda:0')})\n"
     ]
    }
   ],
   "source": [
    "%run -i datagen.py\n",
    "%run -i datapre_v1.py\n",
    "%run -i model_v1.py\n",
    "%run -i train_v2.py\n",
    "print(model.state_dict())"
   ]
  },
  {
   "cell_type": "markdown",
   "id": "521f65ff-f43f-4c6e-96f3-91d1325323b3",
   "metadata": {},
   "source": [
    "## Mini-Batch"
   ]
  },
  {
   "cell_type": "code",
   "execution_count": 12,
   "id": "dcd7ba05-4c8a-4f75-963e-fcb208968312",
   "metadata": {},
   "outputs": [],
   "source": [
    "def mini_batch(device, data_loader, step):\n",
    "    mini_batch_losses = []\n",
    "    for x_batch, y_batch in data_loader:\n",
    "        x_batch = x_batch.to(device)\n",
    "        y_batch = y_batch.to(device)\n",
    "        mini_batch_loss = step(x_batch, y_batch)\n",
    "        mini_batch_losses.append(mini_batch_loss)\n",
    "    loss = np.mean(mini_batch_losses)\n",
    "    return loss"
   ]
  },
  {
   "cell_type": "code",
   "execution_count": 13,
   "id": "591bfaea-a5c0-438f-9454-5cc848aac4e6",
   "metadata": {},
   "outputs": [
    {
     "name": "stdout",
     "output_type": "stream",
     "text": [
      "Overwriting train_v3.py\n"
     ]
    }
   ],
   "source": [
    "%%writefile train_v3.py\n",
    "n_epochs = 200\n",
    "losses = []\n",
    "for epoch in range(n_epochs):\n",
    "    loss = mini_batch(device, train_loader, train_step)\n",
    "    losses.append(loss)"
   ]
  },
  {
   "cell_type": "code",
   "execution_count": 14,
   "id": "8fe9eee5-8c50-44e8-8560-5ebb93c19991",
   "metadata": {},
   "outputs": [
    {
     "name": "stdout",
     "output_type": "stream",
     "text": [
      "OrderedDict({'0.weight': tensor([[1.9684]], device='cuda:0'), '0.bias': tensor([1.0219], device='cuda:0')})\n"
     ]
    }
   ],
   "source": [
    "%run -i datagen.py\n",
    "%run -i datapre_v1.py\n",
    "%run -i model_v1.py\n",
    "%run -i train_v3.py\n",
    "print(model.state_dict())"
   ]
  },
  {
   "cell_type": "markdown",
   "id": "de46c9c0-6169-459f-a46e-3fc66deee8af",
   "metadata": {},
   "source": [
    "## Random Split"
   ]
  },
  {
   "cell_type": "code",
   "execution_count": 15,
   "id": "089ba254-9a0a-4d18-81c3-031c5249a0eb",
   "metadata": {},
   "outputs": [
    {
     "name": "stdout",
     "output_type": "stream",
     "text": [
      "Overwriting datapre_v2.py\n"
     ]
    }
   ],
   "source": [
    "%%writefile datapre_v2.py\n",
    "torch.manual_seed(13)\n",
    "x_tensor = torch.as_tensor(x).float()\n",
    "y_tensor = torch.as_tensor(y).float()\n",
    "dataset = TensorDataset(x_tensor, y_tensor)\n",
    "ratio = .8\n",
    "n_total = len(dataset)\n",
    "n_train = int(n_total * ratio)\n",
    "n_val = n_total - n_train\n",
    "train_data, val_data = random_split(dataset, [n_train, n_val])\n",
    "train_loader = DataLoader(dataset=train_data, batch_size=16, shuffle=True)\n",
    "val_loader = DataLoader(dataset=val_data, batch_size=16)"
   ]
  },
  {
   "cell_type": "code",
   "execution_count": 16,
   "id": "55cab3e8-825b-4fc5-82b2-b661c9aada1c",
   "metadata": {},
   "outputs": [],
   "source": [
    "def make_val_step(model, loss_fn):\n",
    "    def perform_val_step(x, y):\n",
    "        model.eval()\n",
    "        yhat = model(x)\n",
    "        loss = loss_fn(yhat, y)\n",
    "        return loss.item()\n",
    "    return perform_val_step"
   ]
  },
  {
   "cell_type": "code",
   "execution_count": 17,
   "id": "894d8292-5407-4431-b06f-9fb5166898ba",
   "metadata": {},
   "outputs": [
    {
     "name": "stdout",
     "output_type": "stream",
     "text": [
      "Overwriting model_v2.py\n"
     ]
    }
   ],
   "source": [
    "%%writefile model_v2.py\n",
    "device = 'cuda' if torch.cuda.is_available() else 'cpu'\n",
    "lr = 0.1\n",
    "torch.manual_seed(42)\n",
    "model = nn.Sequential(nn.Linear(1, 1)).to(device)\n",
    "optimizer = optim.SGD(model.parameters(), lr=lr)\n",
    "loss_fn = nn.MSELoss(reduction='mean')\n",
    "train_step = make_train_step(model, loss_fn, optimizer)\n",
    "val_step = make_val_step(model, loss_fn)"
   ]
  },
  {
   "cell_type": "code",
   "execution_count": 18,
   "id": "afa3977a-2a0d-4cc5-a153-0e2e98117ba3",
   "metadata": {},
   "outputs": [
    {
     "name": "stdout",
     "output_type": "stream",
     "text": [
      "Overwriting train_v4.py\n"
     ]
    }
   ],
   "source": [
    "%%writefile train_v4.py\n",
    "n_epochs = 200\n",
    "losses = []\n",
    "val_losses = []\n",
    "for epoch in range(n_epochs):\n",
    "    loss = mini_batch(device, train_loader, train_step)\n",
    "    losses.append(loss)\n",
    "    with torch.no_grad():\n",
    "        val_loss = mini_batch(device, val_loader, val_step)\n",
    "        val_losses.append(val_loss)"
   ]
  },
  {
   "cell_type": "code",
   "execution_count": 19,
   "id": "a3ab1526-e76f-4659-bfc9-e556caf96086",
   "metadata": {},
   "outputs": [
    {
     "name": "stdout",
     "output_type": "stream",
     "text": [
      "OrderedDict({'0.weight': tensor([[1.9438]], device='cuda:0'), '0.bias': tensor([1.0287], device='cuda:0')})\n"
     ]
    }
   ],
   "source": [
    "%run -i datagen.py\n",
    "%run -i datapre_v2.py\n",
    "%run -i model_v2.py\n",
    "%run -i train_v4.py\n",
    "print(model.state_dict())"
   ]
  },
  {
   "cell_type": "code",
   "execution_count": 20,
   "id": "037329bc-6293-4b43-a7b0-fd7456a4042f",
   "metadata": {},
   "outputs": [
    {
     "data": {
      "image/png": "[encoded data removed]",
      "text/plain": [
       "<Figure size 1000x400 with 1 Axes>"
      ]
     },
     "metadata": {},
     "output_type": "display_data"
    }
   ],
   "source": [
    "fig = plt.figure(figsize=(10, 4))\n",
    "plt.plot(losses, label='Training Loss', c='b')\n",
    "plt.plot(val_losses, label='Validation Loss', c='r')\n",
    "plt.yscale('log')\n",
    "plt.xlabel('Epochs')\n",
    "plt.ylabel('Loss')\n",
    "plt.legend()\n",
    "plt.tight_layout()"
   ]
  },
  {
   "cell_type": "markdown",
   "id": "485c2193-62ca-41b6-8f73-cdaf59ee41fc",
   "metadata": {},
   "source": [
    "## TensorBoard"
   ]
  },
  {
   "cell_type": "code",
   "execution_count": 21,
   "id": "c0e07af2-b38d-494a-bea4-33461ab07f0f",
   "metadata": {},
   "outputs": [],
   "source": [
    "writer = SummaryWriter('runs/test')\n",
    "dummy_x, dummy_y = next(iter(train_loader))\n",
    "writer.add_graph(model, dummy_x.to(device))\n",
    "writer.add_scalars(main_tag='loss', tag_scalar_dict={'training': loss, 'validation': val_loss}, global_step=epoch)"
   ]
  },
  {
   "cell_type": "code",
   "execution_count": 22,
   "id": "d9752a22-0cca-4c39-adfc-1400bc4cc6ac",
   "metadata": {},
   "outputs": [],
   "source": [
    "%load_ext tensorboard"
   ]
  },
  {
   "cell_type": "code",
   "execution_count": 23,
   "id": "9e23780d-2207-410c-8437-64af0eb7c9ce",
   "metadata": {},
   "outputs": [
    {
     "data": {
      "text/html": [
       "\n",
       "      <iframe id=\"tensorboard-frame-e64a519a930fa249\" width=\"100%\" height=\"800\" frameborder=\"0\">\n",
       "      </iframe>\n",
       "      <script>\n",
       "        (function() {\n",
       "          const frame = document.getElementById(\"tensorboard-frame-e64a519a930fa249\");\n",
       "          const url = new URL(\"/\", window.location);\n",
       "          const port = 6006;\n",
       "          if (port) {\n",
       "            url.port = port;\n",
       "          }\n",
       "          frame.src = url;\n",
       "        })();\n",
       "      </script>\n",
       "    "
      ],
      "text/plain": [
       "<IPython.core.display.HTML object>"
      ]
     },
     "metadata": {},
     "output_type": "display_data"
    }
   ],
   "source": [
    "%tensorboard --logdir runs"
   ]
  },
  {
   "cell_type": "code",
   "execution_count": 24,
   "id": "98fc477a-f055-4b58-b9d6-4e60f50b3eda",
   "metadata": {},
   "outputs": [
    {
     "name": "stdout",
     "output_type": "stream",
     "text": [
      "Overwriting model_v3.py\n"
     ]
    }
   ],
   "source": [
    "%%writefile model_v3.py\n",
    "device = 'cuda' if torch.cuda.is_available() else 'cpu'\n",
    "lr = 0.1\n",
    "torch.manual_seed(42)\n",
    "model = nn.Sequential(nn.Linear(1, 1)).to(device)\n",
    "optimizer = optim.SGD(model.parameters(), lr=lr)\n",
    "loss_fn = nn.MSELoss(reduction='mean')\n",
    "train_step = make_train_step(model, loss_fn, optimizer)\n",
    "val_step = make_val_step(model, loss_fn)\n",
    "writer = SummaryWriter('runs/simple_linear_regression')\n",
    "x_dummy, y_dummy = next(iter(train_loader))\n",
    "writer.add_graph(model, x_dummy.to(device))"
   ]
  },
  {
   "cell_type": "code",
   "execution_count": 25,
   "id": "7bceba2a-9293-4e03-a7a3-08a3fddfdb38",
   "metadata": {},
   "outputs": [
    {
     "name": "stdout",
     "output_type": "stream",
     "text": [
      "Overwriting train_v5.py\n"
     ]
    }
   ],
   "source": [
    "%%writefile train_v5.py\n",
    "n_epochs = 200\n",
    "losses = []\n",
    "val_losses = []\n",
    "for epoch in range(n_epochs):\n",
    "    loss = mini_batch(device, train_loader, train_step)\n",
    "    losses.append(loss)\n",
    "    with torch.no_grad():\n",
    "        val_loss = mini_batch(device, val_loader, val_step)\n",
    "        val_losses.append(val_loss)\n",
    "    writer.add_scalars(main_tag='loss', tag_scalar_dict={'training': loss, 'validation': val_loss}, global_step=epoch)\n",
    "writer.close()"
   ]
  },
  {
   "cell_type": "code",
   "execution_count": 26,
   "id": "945463af-7e00-421e-abd6-95af8cc7a828",
   "metadata": {},
   "outputs": [
    {
     "data": {
      "text/plain": [
       "<Figure size 640x480 with 0 Axes>"
      ]
     },
     "metadata": {},
     "output_type": "display_data"
    },
    {
     "name": "stdout",
     "output_type": "stream",
     "text": [
      "OrderedDict({'0.weight': tensor([[1.9432]], device='cuda:0'), '0.bias': tensor([1.0263], device='cuda:0')})\n"
     ]
    }
   ],
   "source": [
    "%run -i datagen.py\n",
    "%run -i datapre_v2.py\n",
    "%run -i model_v3.py\n",
    "%run -i train_v5.py\n",
    "print(model.state_dict())"
   ]
  },
  {
   "cell_type": "code",
   "execution_count": 27,
   "id": "c0c6c36b-cf98-43a3-8ef6-8493355905f8",
   "metadata": {},
   "outputs": [
    {
     "data": {
      "text/plain": [
       "Reusing TensorBoard on port 6006 (pid 41830), started 0:00:03 ago. (Use '!kill 41830' to kill it.)"
      ]
     },
     "metadata": {},
     "output_type": "display_data"
    },
    {
     "data": {
      "text/html": [
       "\n",
       "      <iframe id=\"tensorboard-frame-1c0e0718c8b3fc31\" width=\"100%\" height=\"800\" frameborder=\"0\">\n",
       "      </iframe>\n",
       "      <script>\n",
       "        (function() {\n",
       "          const frame = document.getElementById(\"tensorboard-frame-1c0e0718c8b3fc31\");\n",
       "          const url = new URL(\"/\", window.location);\n",
       "          const port = 6006;\n",
       "          if (port) {\n",
       "            url.port = port;\n",
       "          }\n",
       "          frame.src = url;\n",
       "        })();\n",
       "      </script>\n",
       "    "
      ],
      "text/plain": [
       "<IPython.core.display.HTML object>"
      ]
     },
     "metadata": {},
     "output_type": "display_data"
    }
   ],
   "source": [
    "%tensorboard --logdir runs"
   ]
  },
  {
   "cell_type": "markdown",
   "id": "c3889828-3c41-435e-9db5-c81d3d5e9c77",
   "metadata": {},
   "source": [
    "## Save and Load Model"
   ]
  },
  {
   "cell_type": "code",
   "execution_count": 28,
   "id": "8acd4ec5-b06f-41f8-a020-16cb47642a3a",
   "metadata": {},
   "outputs": [
    {
     "name": "stdout",
     "output_type": "stream",
     "text": [
      "OrderedDict({'0.weight': tensor([[1.9432]], device='cuda:0'), '0.bias': tensor([1.0263], device='cuda:0')})\n"
     ]
    }
   ],
   "source": [
    "%run -i datagen.py\n",
    "%run -i datapre_v2.py\n",
    "%run -i model_v3.py\n",
    "%run -i train_v5.py\n",
    "print(model.state_dict())"
   ]
  },
  {
   "cell_type": "code",
   "execution_count": 29,
   "id": "485a9fe3-987c-4e71-b085-0c446f129584",
   "metadata": {},
   "outputs": [],
   "source": [
    "checkpoint = {'epoch': n_epochs,\n",
    "              'model_state_dict': model.state_dict(),\n",
    "              'optimizer_state_dict': optimizer.state_dict(),\n",
    "              'loss': losses,\n",
    "              'val_loss': val_losses}\n",
    "torch.save(checkpoint, 'model_checkpoint.pth')"
   ]
  },
  {
   "cell_type": "code",
   "execution_count": 30,
   "id": "c19b9dc5-4236-4eb6-92f4-9d086ff133e5",
   "metadata": {},
   "outputs": [
    {
     "name": "stdout",
     "output_type": "stream",
     "text": [
      "Sequential(\n",
      "  (0): Linear(in_features=1, out_features=1, bias=True)\n",
      ")\n",
      "OrderedDict({'0.weight': tensor([[1.9432]], device='cuda:0'), '0.bias': tensor([1.0263], device='cuda:0')})\n"
     ]
    },
    {
     "name": "stderr",
     "output_type": "stream",
     "text": [
      "/tmp/ipykernel_41666/246406728.py:1: FutureWarning: You are using `torch.load` with `weights_only=False` (the current default value), which uses the default pickle module implicitly. It is possible to construct malicious pickle data which will execute arbitrary code during unpickling (See https://github.com/pytorch/pytorch/blob/main/SECURITY.md#untrusted-models for more details). In a future release, the default value for `weights_only` will be flipped to `True`. This limits the functions that could be executed during unpickling. Arbitrary objects will no longer be allowed to be loaded via this mode unless they are explicitly allowlisted by the user via `torch.serialization.add_safe_globals`. We recommend you start setting `weights_only=True` for any use case where you don't have full control of the loaded file. Please open an issue on GitHub for any issues related to this experimental feature.\n",
      "  checkpoint = torch.load('model_checkpoint.pth')\n"
     ]
    }
   ],
   "source": [
    "checkpoint = torch.load('model_checkpoint.pth')\n",
    "model.load_state_dict(checkpoint['model_state_dict'])\n",
    "optimizer.load_state_dict(checkpoint['optimizer_state_dict'])\n",
    "saved_epoch = checkpoint['epoch']\n",
    "saved_losses = checkpoint['loss']\n",
    "saved_val_losses = checkpoint['val_loss']\n",
    "print(model.train())  # Important: make it a habit\n",
    "print(model.state_dict())"
   ]
  },
  {
   "cell_type": "code",
   "execution_count": 31,
   "id": "b76229fb-50a3-49a3-9c0e-2a9a09d1af3b",
   "metadata": {},
   "outputs": [
    {
     "name": "stdout",
     "output_type": "stream",
     "text": [
      "OrderedDict({'0.weight': tensor([[1.9411]], device='cuda:0'), '0.bias': tensor([1.0230], device='cuda:0')})\n"
     ]
    }
   ],
   "source": [
    "%run -i train_v5.py\n",
    "print(model.state_dict())"
   ]
  },
  {
   "cell_type": "code",
   "execution_count": 32,
   "id": "bf0027f0-3ac6-4176-abfb-5e0062f48aa7",
   "metadata": {},
   "outputs": [
    {
     "name": "stdout",
     "output_type": "stream",
     "text": [
      "OrderedDict({'0.weight': tensor([[1.9411]], device='cuda:0'), '0.bias': tensor([1.0230], device='cuda:0')})\n"
     ]
    }
   ],
   "source": [
    "print(model.state_dict())"
   ]
  },
  {
   "cell_type": "code",
   "execution_count": 33,
   "id": "6b5f6be0-57f0-4e43-bf4f-0e6415f6c101",
   "metadata": {},
   "outputs": [],
   "source": [
    "def plot_resumed_losses(saved_epoch, saved_losses, saved_val_losses, n_epochs, losses, val_losses):\n",
    "    range_before = range(0, saved_epoch)\n",
    "    range_after = range(saved_epoch, saved_epoch + n_epochs)\n",
    "    fig = plt.figure(figsize=(10, 4))\n",
    "    plt.plot(range_before, saved_losses, label='Checkpointed Training Loss', c='b', linestyle='--')\n",
    "    plt.plot(range_before, saved_val_losses,  label='Checkpointed Validation Loss', c='r', linestyle='--')\n",
    "    plt.plot(range_after, losses, label='Training Loss', c='b')\n",
    "    plt.plot(range_after, val_losses, label='Validation Loss', c='r')\n",
    "    plt.plot([saved_epoch, saved_epoch], [np.min(saved_losses + losses), np.max(saved_losses + losses)], c='k', linewidth=1, linestyle='--', label='Checkpoint')\n",
    "    plt.yscale('log')\n",
    "    plt.xlabel('Epochs')\n",
    "    plt.ylabel('Loss')\n",
    "    plt.legend()\n",
    "    plt.tight_layout()\n",
    "    return fig"
   ]
  },
  {
   "cell_type": "code",
   "execution_count": 34,
   "id": "215caf53-743b-4f7c-a857-b776c64ffe64",
   "metadata": {},
   "outputs": [
    {
     "data": {
      "image/png": "[encoded data removed]",
      "text/plain": [
       "<Figure size 1000x400 with 1 Axes>"
      ]
     },
     "metadata": {},
     "output_type": "display_data"
    }
   ],
   "source": [
    "fig = plot_resumed_losses(saved_epoch, saved_losses, saved_val_losses, n_epochs, losses, val_losses)"
   ]
  },
  {
   "cell_type": "markdown",
   "id": "f063fb7e-39fa-4c97-bc2d-f89e43c71d8e",
   "metadata": {},
   "source": [
    "## Deploy"
   ]
  },
  {
   "cell_type": "code",
   "execution_count": 35,
   "id": "1dbda51a-e9af-44c8-8983-4c18f474be12",
   "metadata": {},
   "outputs": [
    {
     "name": "stdout",
     "output_type": "stream",
     "text": [
      "OrderedDict({'0.weight': tensor([[1.9432]], device='cuda:0'), '0.bias': tensor([1.0263], device='cuda:0')})\n"
     ]
    },
    {
     "name": "stderr",
     "output_type": "stream",
     "text": [
      "/tmp/ipykernel_41666/1307038923.py:2: FutureWarning: You are using `torch.load` with `weights_only=False` (the current default value), which uses the default pickle module implicitly. It is possible to construct malicious pickle data which will execute arbitrary code during unpickling (See https://github.com/pytorch/pytorch/blob/main/SECURITY.md#untrusted-models for more details). In a future release, the default value for `weights_only` will be flipped to `True`. This limits the functions that could be executed during unpickling. Arbitrary objects will no longer be allowed to be loaded via this mode unless they are explicitly allowlisted by the user via `torch.serialization.add_safe_globals`. We recommend you start setting `weights_only=True` for any use case where you don't have full control of the loaded file. Please open an issue on GitHub for any issues related to this experimental feature.\n",
      "  checkpoint = torch.load('model_checkpoint.pth')\n"
     ]
    },
    {
     "data": {
      "text/plain": [
       "<Figure size 640x480 with 0 Axes>"
      ]
     },
     "metadata": {},
     "output_type": "display_data"
    }
   ],
   "source": [
    "%run -i model_v3.py\n",
    "checkpoint = torch.load('model_checkpoint.pth')\n",
    "model.load_state_dict(checkpoint['model_state_dict'])\n",
    "print(model.state_dict())"
   ]
  },
  {
   "cell_type": "code",
   "execution_count": 36,
   "id": "5cb8dcbf-044e-4568-9e2e-b4f806abd3a5",
   "metadata": {},
   "outputs": [
    {
     "name": "stdout",
     "output_type": "stream",
     "text": [
      "tensor([[1.4150],\n",
      "        [1.6870],\n",
      "        [2.1340]], device='cuda:0', grad_fn=<AddmmBackward0>)\n"
     ]
    }
   ],
   "source": [
    "new_inputs = torch.tensor([[.20], [.34], [.57]])\n",
    "model.eval()  # Remember it!\n",
    "print(model(new_inputs.to(device)))"
   ]
  }
 ],
 "metadata": {
  "kernelspec": {
   "display_name": "Python 3 (ipykernel)",
   "language": "python",
   "name": "python3"
  },
  "language_info": {
   "codemirror_mode": {
    "name": "ipython",
    "version": 3
   },
   "file_extension": ".py",
   "mimetype": "text/x-python",
   "name": "python",
   "nbconvert_exporter": "python",
   "pygments_lexer": "ipython3",
   "version": "3.12.4"
  }
 },
 "nbformat": 4,
 "nbformat_minor": 5
}
